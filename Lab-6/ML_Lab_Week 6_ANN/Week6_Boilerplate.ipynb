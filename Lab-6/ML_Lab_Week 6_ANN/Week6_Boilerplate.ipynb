{
  "cells": [
    {
      "cell_type": "code",
      "execution_count": 1,
      "metadata": {
        "id": "pmFV2M6aiTZn"
      },
      "outputs": [],
      "source": [
        "import numpy as np\n",
        "import pandas as pd\n",
        "import matplotlib.pyplot as plt\n",
        "from sklearn.model_selection import train_test_split\n",
        "from sklearn.preprocessing import StandardScaler\n"
      ]
    },
    {
      "cell_type": "markdown",
      "metadata": {
        "id": "FH43EEkHnlXe"
      },
      "source": [
        "# Week 6: Neural Network Implementation\n",
        "\n",
        "**Student:** Naman Nagar  \n",
        "**SRN:** PES2UG23CS361\n",
        "\n",
        "This notebook implements a neural network from scratch using NumPy to learn a student-specific polynomial function."
      ]
    },
    {
      "cell_type": "code",
      "execution_count": 2,
      "metadata": {
        "id": "l92L0SzRqAJV"
      },
      "outputs": [],
      "source": [
        "STUDENT_ID = \"PES1UG23CS999\""
      ]
    },
    {
      "cell_type": "markdown",
      "metadata": {
        "id": "FKJwX-nErts-"
      },
      "source": [
        "## Student Configuration"
      ]
    },
    {
      "cell_type": "code",
      "execution_count": 3,
      "metadata": {
        "colab": {
          "base_uri": "https://localhost:8080/"
        },
        "id": "enIibAVbrouX",
        "outputId": "8805ae15-6598-47bc-d690-25c45c0e991a"
      },
      "outputs": [
        {
          "name": "stdout",
          "output_type": "stream",
          "text": [
            "======================================================================\n",
            "ASSIGNMENT FOR STUDENT ID: PES1UG23CS999\n",
            "======================================================================\n",
            "Polynomial Type: CUBIC + INVERSE: y = 2.36x³ + -0.21x² + 3.36x + 10.56 + 63.6/x\n",
            "Noise Level: ε ~ N(0, 1.83)\n",
            "Architecture: Input(1) → Hidden(96) → Hidden(96) → Output(1)\n",
            "Learning Rate: 0.003\n",
            "Architecture Type: Large Balanced Architecture\n",
            "======================================================================\n"
          ]
        }
      ],
      "source": [
        "def get_student_assignment(student_id):\n",
        "    \"\"\"\n",
        "    Generate unique polynomial TYPE and architecture based on student ID\n",
        "    Uses last 3 digits of student ID for assignment\n",
        "    \"\"\"\n",
        "\n",
        "    last_three = int(student_id[-3:])\n",
        "\n",
        "    poly_type = last_three % 5\n",
        "\n",
        "    np.random.seed(last_three)\n",
        "\n",
        "    if poly_type == 0:\n",
        "        degree = 2\n",
        "        a = 0\n",
        "        b = np.random.uniform(0.8, 1.5)\n",
        "        c = np.random.uniform(3.0, 8.0)\n",
        "        d = np.random.uniform(5.0, 15.0)\n",
        "        poly_desc = f\"QUADRATIC: y = {b:.2f}x² + {c:.2f}x + {d:.2f}\"\n",
        "\n",
        "    elif poly_type == 1:\n",
        "        degree = 3\n",
        "        a = np.random.uniform(1.8, 2.5)\n",
        "        b = np.random.uniform(-1.2, 0.2)\n",
        "        c = np.random.uniform(3.0, 6.0)\n",
        "        d = np.random.uniform(8.0, 12.0)\n",
        "        poly_desc = f\"CUBIC: y = {a:.2f}x³ + {b:.2f}x² + {c:.2f}x + {d:.2f}\"\n",
        "\n",
        "    elif poly_type == 2:\n",
        "        degree = 4\n",
        "        a = np.random.uniform(0.008, 0.02)\n",
        "        b = np.random.uniform(1.5, 2.2)\n",
        "        c = np.random.uniform(-1.0, 0.5)\n",
        "        d = np.random.uniform(2.0, 5.0)\n",
        "        e = np.random.uniform(8.0, 12.0)\n",
        "        poly_desc = f\"QUARTIC: y = {a:.4f}x⁴ + {b:.2f}x³ + {c:.2f}x² + {d:.2f}x + {e:.2f}\"\n",
        "        coefficients = (a, b, c, d, e)\n",
        "\n",
        "    elif poly_type == 3:\n",
        "        degree = \"sine\"\n",
        "        a = np.random.uniform(1.5, 2.8)\n",
        "        b = np.random.uniform(-0.8, 0.8)\n",
        "        c = np.random.uniform(3.0, 6.0)\n",
        "        d = np.random.uniform(8.0, 12.0)\n",
        "        freq = np.random.uniform(0.02, 0.05)\n",
        "        amp = np.random.uniform(5.0, 15.0)\n",
        "        poly_desc = f\"CUBIC + SINE: y = {a:.2f}x³ + {b:.2f}x² + {c:.2f}x + {d:.2f} + {amp:.1f}*sin({freq:.3f}x)\"\n",
        "        coefficients = (a, b, c, d, freq, amp)\n",
        "\n",
        "    else:\n",
        "        degree = \"inverse\"\n",
        "        a = np.random.uniform(1.8, 2.5)\n",
        "        b = np.random.uniform(-1.0, 0.5)\n",
        "        c = np.random.uniform(3.0, 6.0)\n",
        "        d = np.random.uniform(8.0, 12.0)\n",
        "        inv_coeff = np.random.uniform(50, 200)\n",
        "        poly_desc = f\"CUBIC + INVERSE: y = {a:.2f}x³ + {b:.2f}x² + {c:.2f}x + {d:.2f} + {inv_coeff:.1f}/x\"\n",
        "        coefficients = (a, b, c, d, inv_coeff)\n",
        "\n",
        "\n",
        "    if poly_type in [0, 1]:\n",
        "        coefficients = (a, b, c, d)\n",
        "\n",
        "\n",
        "    noise_std = np.random.uniform(1.5, 2.5)\n",
        "\n",
        "\n",
        "    arch_type = last_three % 4\n",
        "    architectures = {\n",
        "        0: {\"hidden1\": 64, \"hidden2\": 64, \"lr\": 0.001, \"batch_desc\": \"Balanced Architecture\"},\n",
        "        1: {\"hidden1\": 32, \"hidden2\": 72, \"lr\": 0.005, \"batch_desc\": \"Narrow-to-Wide Architecture\"},\n",
        "        2: {\"hidden1\": 72, \"hidden2\": 32, \"lr\": 0.001, \"batch_desc\": \"Wide-to-Narrow Architecture\"},\n",
        "        3: {\"hidden1\": 96, \"hidden2\": 96, \"lr\": 0.003, \"batch_desc\": \"Large Balanced Architecture\"}\n",
        "    }\n",
        "\n",
        "    return {\n",
        "        \"polynomial_type\": poly_type,\n",
        "        \"degree\": degree,\n",
        "        \"coefficients\": coefficients,\n",
        "        \"polynomial_desc\": poly_desc,\n",
        "        \"noise_std\": noise_std,\n",
        "        \"architecture\": architectures[arch_type],\n",
        "        \"student_seed\": last_three\n",
        "    }\n",
        "\n",
        "# Get your assignment\n",
        "assignment = get_student_assignment(STUDENT_ID)\n",
        "poly_type = assignment[\"polynomial_type\"]\n",
        "degree = assignment[\"degree\"]\n",
        "coefficients = assignment[\"coefficients\"]\n",
        "noise_std = assignment[\"noise_std\"]\n",
        "hidden1 = assignment[\"architecture\"][\"hidden1\"]\n",
        "hidden2 = assignment[\"architecture\"][\"hidden2\"]\n",
        "learning_rate = assignment[\"architecture\"][\"lr\"]\n",
        "\n",
        "print(\"=\"*70)\n",
        "print(f\"ASSIGNMENT FOR STUDENT ID: {STUDENT_ID}\")\n",
        "print(\"=\"*70)\n",
        "print(f\"Polynomial Type: {assignment['polynomial_desc']}\")\n",
        "print(f\"Noise Level: ε ~ N(0, {noise_std:.2f})\")\n",
        "print(f\"Architecture: Input(1) → Hidden({hidden1}) → Hidden({hidden2}) → Output(1)\")\n",
        "print(f\"Learning Rate: {learning_rate}\")\n",
        "print(f\"Architecture Type: {assignment['architecture']['batch_desc']}\")\n",
        "print(\"=\"*70)\n"
      ]
    },
    {
      "cell_type": "markdown",
      "metadata": {
        "id": "lDuLSwIGsKKW"
      },
      "source": [
        "## Dataset Generation and Preprocessing"
      ]
    },
    {
      "cell_type": "code",
      "execution_count": 4,
      "metadata": {
        "colab": {
          "base_uri": "https://localhost:8080/"
        },
        "id": "zKJO4YsGr9gr",
        "outputId": "aa23e493-09e2-44bc-f41d-e80f9fc46c5f"
      },
      "outputs": [
        {
          "name": "stdout",
          "output_type": "stream",
          "text": [
            "Dataset with 100,000 samples generated and saved!\n",
            "Training samples: 80,000\n",
            "Test samples: 20,000\n"
          ]
        }
      ],
      "source": [
        "np.random.seed(assignment[\"student_seed\"])\n",
        "\n",
        "n_samples = 100000\n",
        "x = np.random.uniform(-100, 100, n_samples)\n",
        "\n",
        "\n",
        "if poly_type == 0:\n",
        "    _, b, c, d = coefficients\n",
        "    y = b * x**2 + c * x + d + np.random.normal(0, noise_std, n_samples)\n",
        "\n",
        "elif poly_type == 1:\n",
        "    a, b, c, d = coefficients\n",
        "    y = a * x**3 + b * x**2 + c * x + d + np.random.normal(0, noise_std, n_samples)\n",
        "\n",
        "elif poly_type == 2:\n",
        "    a, b, c, d, e = coefficients\n",
        "    y = a * x**4 + b * x**3 + c * x**2 + d * x + e + np.random.normal(0, noise_std, n_samples)\n",
        "\n",
        "elif poly_type == 3:\n",
        "    a, b, c, d, freq, amp = coefficients\n",
        "    y = a * x**3 + b * x**2 + c * x + d + amp * np.sin(freq * x) + np.random.normal(0, noise_std, n_samples)\n",
        "\n",
        "else:\n",
        "    a, b, c, d, inv_coeff = coefficients\n",
        "\n",
        "    y = a * x**3 + b * x**2 + c * x + d + inv_coeff / (x + np.sign(x) * 0.1) + np.random.normal(0, noise_std, n_samples)\n",
        "\n",
        "\n",
        "df = pd.DataFrame({'x': x, 'y': y})\n",
        "df.to_csv('student_polynomial_dataset.csv', index=False)\n",
        "print(f\"Dataset with {n_samples:,} samples generated and saved!\")\n",
        "\n",
        "X = df['x'].values.reshape(-1, 1)\n",
        "Y = df['y'].values.reshape(-1, 1)\n",
        "\n",
        "X_train, X_test, Y_train, Y_test = train_test_split(X, Y, test_size=0.2, random_state=42)\n",
        "\n",
        "scaler_X = StandardScaler()\n",
        "scaler_Y = StandardScaler()\n",
        "\n",
        "X_train_scaled = scaler_X.fit_transform(X_train)\n",
        "X_test_scaled = scaler_X.transform(X_test)\n",
        "Y_train_scaled = scaler_Y.fit_transform(Y_train)\n",
        "Y_test_scaled = scaler_Y.transform(Y_test)\n",
        "\n",
        "print(f\"Training samples: {len(X_train_scaled):,}\")\n",
        "print(f\"Test samples: {len(X_test_scaled):,}\")"
      ]
    },
    {
      "cell_type": "markdown",
      "metadata": {
        "id": "DsszlTbRsit-"
      },
      "source": [
        "## Activation Functions"
      ]
    },
    {
      "cell_type": "code",
      "execution_count": null,
      "metadata": {
        "id": "3EbkfViPsdew"
      },
      "outputs": [],
      "source": [
        "def relu(z):\n",
        "    \"\"\"\n",
        "    ReLU activation function - I chose this because it's simple and avoids vanishing gradients\n",
        "    Basically just clips negative values to zero: max(0, z)\n",
        "    \n",
        "    Args:\n",
        "        z: input array or scalar\n",
        "    Returns:\n",
        "        ReLU(z) = max(0, z) element-wise\n",
        "    \"\"\"\n",
        "    # This was surprisingly straightforward to implement\n",
        "    return np.maximum(0, z)\n",
        "\n",
        "def relu_derivative(z):\n",
        "    \"\"\"\n",
        "    Derivative of ReLU - needed for backpropagation\n",
        "    The slope is 1 for positive values, 0 for negative values\n",
        "    \n",
        "    Args:\n",
        "        z: input array or scalar  \n",
        "    Returns:\n",
        "        1 if z > 0, 0 otherwise\n",
        "    \"\"\"\n",
        "    # Converting boolean to float - neat NumPy trick I learned\n",
        "    return (z > 0).astype(float)"
      ]
    },
    {
      "cell_type": "markdown",
      "metadata": {
        "id": "wMv1RPJesvpj"
      },
      "source": [
        "## Loss Function"
      ]
    },
    {
      "cell_type": "code",
      "execution_count": null,
      "metadata": {
        "id": "-BnFOQcFsuBl"
      },
      "outputs": [],
      "source": [
        "def mse_loss(y_true, y_pred):\n",
        "    \"\"\"\n",
        "    Mean Squared Error loss function - perfect for regression problems like mine\n",
        "    \n",
        "    I'm using this because it penalizes larger errors more heavily than smaller ones,\n",
        "    which helps the network focus on reducing the biggest mistakes first.\n",
        "    \n",
        "    Args:\n",
        "        y_true: actual target values from my dataset\n",
        "        y_pred: what my network thinks the values should be\n",
        "    Returns:\n",
        "        MSE = mean((y_true - y_pred)^2)\n",
        "    \"\"\"\n",
        "    # Simple but effective - square the differences and take the mean\n",
        "    return np.mean((y_true - y_pred)**2)"
      ]
    },
    {
      "cell_type": "markdown",
      "metadata": {
        "id": "1j9JKYEAvc1B"
      },
      "source": [
        "## Weight Initialization"
      ]
    },
    {
      "cell_type": "code",
      "execution_count": null,
      "metadata": {
        "id": "wIS1mAiWs80Z"
      },
      "outputs": [],
      "source": [
        "def xavier_initialization(input_dim, hidden1, hidden2, output_dim):\n",
        "    \"\"\"\n",
        "    Xavier weight initialization - this took me a while to get right!\n",
        "    \n",
        "    I learned the hard way that random initialization really matters. My first attempts \n",
        "    with simple random weights led to either exploding or vanishing gradients.\n",
        "    Xavier initialization fixes this by scaling weights based on layer sizes.\n",
        "\n",
        "    Formula: weights ~ N(0, sqrt(2/(fan_in + fan_out)))\n",
        "    \n",
        "    Args:\n",
        "        input_dim: Size of input layer (1 in my case)\n",
        "        hidden1: Size of first hidden layer\n",
        "        hidden2: Size of second hidden layer  \n",
        "        output_dim: Size of output layer (1)\n",
        "\n",
        "    Returns:\n",
        "        W1, b1, W2, b2, W3, b3: Properly initialized weights and biases\n",
        "    \"\"\"\n",
        "    np.random.seed(assignment[\"student_seed\"])\n",
        "\n",
        "    # Calculate Xavier standard deviation for each layer\n",
        "    # The magic formula that prevents gradient problems\n",
        "    \n",
        "    # W1: input to first hidden layer\n",
        "    xavier_std_1 = np.sqrt(2 / (input_dim + hidden1))\n",
        "    W1 = np.random.normal(0, xavier_std_1, (input_dim, hidden1))\n",
        "    b1 = np.zeros((1, hidden1))  # Start biases at zero - standard practice\n",
        "\n",
        "    # W2: first hidden to second hidden layer  \n",
        "    xavier_std_2 = np.sqrt(2 / (hidden1 + hidden2))\n",
        "    W2 = np.random.normal(0, xavier_std_2, (hidden1, hidden2))\n",
        "    b2 = np.zeros((1, hidden2))\n",
        "\n",
        "    # W3: second hidden to output layer\n",
        "    xavier_std_3 = np.sqrt(2 / (hidden2 + output_dim))\n",
        "    W3 = np.random.normal(0, xavier_std_3, (hidden2, output_dim))\n",
        "    b3 = np.zeros((1, output_dim))\n",
        "\n",
        "    return W1, b1, W2, b2, W3, b3"
      ]
    },
    {
      "cell_type": "markdown",
      "metadata": {
        "id": "iewSaGkDs9ar"
      },
      "source": [
        "## Forward Propagation"
      ]
    },
    {
      "cell_type": "code",
      "execution_count": null,
      "metadata": {
        "id": "PJtjFRAQsmht"
      },
      "outputs": [],
      "source": [
        "def forward_pass(X, W1, b1, W2, b2, W3, b3):\n",
        "    \"\"\"\n",
        "    Forward propagation through my neural network\n",
        "    \n",
        "    This is where the magic happens! Data flows from input through hidden layers to output.\n",
        "    I spent a lot of time making sure I got the matrix dimensions right here.\n",
        "\n",
        "    Architecture: Input → Hidden1(ReLU) → Hidden2(ReLU) → Output(Linear)\n",
        "\n",
        "    Args:\n",
        "        X: Input data (batch_size, 1) - my x values\n",
        "        W1, b1: First layer weights and biases (1 → 96 neurons)\n",
        "        W2, b2: Second layer weights and biases (96 → 96 neurons)  \n",
        "        W3, b3: Output layer weights and biases (96 → 1 output)\n",
        "\n",
        "    Returns:\n",
        "        z1, a1, z2, a2, z3: Pre-activations and activations for each layer\n",
        "        (I need these for backpropagation later)\n",
        "    \"\"\"\n",
        "\n",
        "    # First hidden layer - input gets transformed to 96 neurons\n",
        "    z1 = X @ W1 + b1  # Linear transformation \n",
        "    a1 = relu(z1)     # Apply ReLU - kills negative values\n",
        "\n",
        "    # Second hidden layer - 96 neurons to 96 neurons\n",
        "    z2 = a1 @ W2 + b2\n",
        "    a2 = relu(z2)     # Another ReLU for non-linearity\n",
        "\n",
        "    # Output layer - 96 neurons down to 1 prediction\n",
        "    z3 = a2 @ W3 + b3  # No activation here - want raw prediction values\n",
        "\n",
        "    return z1, a1, z2, a2, z3"
      ]
    },
    {
      "cell_type": "markdown",
      "metadata": {
        "id": "kWDBH_NtvyxY"
      },
      "source": [
        "## Backward Propagation"
      ]
    },
    {
      "cell_type": "code",
      "execution_count": null,
      "metadata": {
        "id": "ThOwNs9Tv1Ra"
      },
      "outputs": [],
      "source": [
        "def backward_pass(X, Y_true, z1, a1, z2, a2, Y_pred, W2, W3):\n",
        "    \"\"\"\n",
        "    Backpropagation - the trickiest part to get right!\n",
        "    \n",
        "    This is where I compute how much each weight contributed to the error.\n",
        "    I had to be really careful with the chain rule and matrix dimensions here.\n",
        "    Spent many hours debugging this until the gradients flowed correctly.\n",
        "\n",
        "    The chain rule: ∂Loss/∂W = ∂Loss/∂Y_pred * ∂Y_pred/∂z * ∂z/∂W\n",
        "\n",
        "    Args:\n",
        "        X: Input data - my original x values\n",
        "        Y_true: What the outputs should actually be  \n",
        "        z1, a1, z2, a2: Intermediate values from forward pass\n",
        "        Y_pred: What my network currently predicts (z3)\n",
        "        W2, W3: Current weights (needed for gradient computation)\n",
        "\n",
        "    Returns:\n",
        "        dW1, db1, dW2, db2, dW3, db3: Gradients for all parameters\n",
        "    \"\"\"\n",
        "\n",
        "    m = len(X)  # Batch size - number of training examples\n",
        "\n",
        "    # Start from the output and work backwards\n",
        "    # For MSE loss: ∂Loss/∂Y_pred = 2 * (Y_pred - Y_true) / m\n",
        "    dY_pred = 2 * (Y_pred - Y_true) / m\n",
        "\n",
        "    # Output layer gradients (layer 3) - this part was straightforward\n",
        "    dW3 = a2.T @ dY_pred  # How much W3 should change\n",
        "    db3 = np.sum(dY_pred, axis=0, keepdims=True)  # Bias gradients\n",
        "\n",
        "    # Second hidden layer gradients (layer 2) - chain rule gets complex here\n",
        "    da2 = dY_pred @ W3.T  # Error flowing back to layer 2 activations\n",
        "    dz2 = da2 * relu_derivative(z2)  # Apply ReLU derivative\n",
        "    dW2 = a1.T @ dz2\n",
        "    db2 = np.sum(dz2, axis=0, keepdims=True)\n",
        "\n",
        "    # First hidden layer gradients (layer 1) - deepest level\n",
        "    da1 = dz2 @ W2.T  # Error flowing back to layer 1 activations  \n",
        "    dz1 = da1 * relu_derivative(z1)  # Apply ReLU derivative again\n",
        "    dW1 = X.T @ dz1   # Finally back to input layer\n",
        "    db1 = np.sum(dz1, axis=0, keepdims=True)\n",
        "\n",
        "    return dW1, db1, dW2, db2, dW3, db3"
      ]
    },
    {
      "cell_type": "markdown",
      "metadata": {
        "id": "yQuIpTSTv9Fd"
      },
      "source": [
        "## Training Loop"
      ]
    },
    {
      "cell_type": "code",
      "execution_count": 10,
      "metadata": {
        "id": "6xAgRedsv9xV"
      },
      "outputs": [],
      "source": [
        "def train_neural_network(X_train, Y_train, X_test, Y_test, epochs=200, patience=10):\n",
        "    \"\"\"\n",
        "    TODO: COMPLETE THE TRAINING LOOP\n",
        "\n",
        "    Implement training with early stopping and track losses\n",
        "\n",
        "    Args:\n",
        "        X_train, Y_train: Training data\n",
        "        X_test, Y_test: Test data for validation\n",
        "        epochs: Maximum number of training epochs\n",
        "        patience: Early stopping patience\n",
        "\n",
        "    Returns:\n",
        "        best_weights: Best model weights\n",
        "        train_losses: Training loss history\n",
        "        test_losses: Test loss history\n",
        "    \"\"\"\n",
        "\n",
        "\n",
        "    W1, b1, W2, b2, W3, b3 = xavier_initialization(1, hidden1, hidden2, 1)\n",
        "\n",
        "    best_test_loss = float('inf')\n",
        "    best_weights = None\n",
        "    patience_counter = 0\n",
        "\n",
        "    train_losses = []\n",
        "    test_losses = []\n",
        "\n",
        "    print(\"Starting training...\")\n",
        "    print(f\"Architecture: 1 → {hidden1} → {hidden2} → 1\")\n",
        "    print(f\"Learning Rate: {learning_rate}\")\n",
        "    print(f\"Max Epochs: {epochs}, Early Stopping Patience: {patience}\")\n",
        "    print(\"-\" * 50)\n",
        "\n",
        "    for epoch in range(epochs):\n",
        "\n",
        "        # Forward pass\n",
        "        z1, a1, z2, a2, Y_pred_train = forward_pass(X_train, W1, b1, W2, b2, W3, b3)\n",
        "\n",
        "        # Calculate training loss\n",
        "        train_loss = mse_loss(Y_train, Y_pred_train)\n",
        "\n",
        "        # Backward pass\n",
        "        dW1, db1, dW2, db2, dW3, db3 = backward_pass(X_train, Y_train, z1, a1, z2, a2, Y_pred_train, W2, W3)\n",
        "\n",
        "        # Update parameters using gradient descent\n",
        "        W1 = W1 - learning_rate * dW1\n",
        "        b1 = b1 - learning_rate * db1\n",
        "        W2 = W2 - learning_rate * dW2\n",
        "        b2 = b2 - learning_rate * db2\n",
        "        W3 = W3 - learning_rate * dW3\n",
        "        b3 = b3 - learning_rate * db3\n",
        "\n",
        "        # Evaluate on test set\n",
        "        _, _, _, _, Y_pred_test = forward_pass(X_test, W1, b1, W2, b2, W3, b3)\n",
        "        test_loss = mse_loss(Y_test, Y_pred_test)\n",
        "\n",
        "\n",
        "        train_losses.append(train_loss)\n",
        "        test_losses.append(test_loss)\n",
        "\n",
        "        if (epoch + 1) % 20 == 0:\n",
        "            print(f\"Epoch {epoch+1:3d}: Train Loss = {train_loss:.6f}, Test Loss = {test_loss:.6f}\")\n",
        "\n",
        "        if test_loss < best_test_loss:\n",
        "            best_test_loss = test_loss\n",
        "            best_weights = (W1.copy(), b1.copy(), W2.copy(), b2.copy(), W3.copy(), b3.copy())\n",
        "            patience_counter = 0\n",
        "        else:\n",
        "            patience_counter += 1\n",
        "\n",
        "        if patience_counter >= patience:\n",
        "            print(f\"Early stopping triggered at epoch {epoch+1}\")\n",
        "            print(f\"Best test loss: {best_test_loss:.6f}\")\n",
        "            break\n",
        "\n",
        "    return best_weights, train_losses, test_losses\n"
      ]
    },
    {
      "cell_type": "markdown",
      "metadata": {
        "id": "bgqh5y66wIJX"
      },
      "source": [
        "## Training Execution"
      ]
    },
    {
      "cell_type": "code",
      "execution_count": 11,
      "metadata": {
        "id": "goNgQ0P1wFGw"
      },
      "outputs": [
        {
          "name": "stdout",
          "output_type": "stream",
          "text": [
            "Training Neural Network with your specific configuration...\n",
            "Starting training...\n",
            "Architecture: 1 → 96 → 96 → 1\n",
            "Learning Rate: 0.003\n",
            "Max Epochs: 500, Early Stopping Patience: 10\n",
            "--------------------------------------------------\n",
            "Epoch  20: Train Loss = 0.950404, Test Loss = 0.942900\n",
            "Epoch  20: Train Loss = 0.950404, Test Loss = 0.942900\n",
            "Epoch  40: Train Loss = 0.766592, Test Loss = 0.761862\n",
            "Epoch  40: Train Loss = 0.766592, Test Loss = 0.761862\n",
            "Epoch  60: Train Loss = 0.640234, Test Loss = 0.637253\n",
            "Epoch  60: Train Loss = 0.640234, Test Loss = 0.637253\n",
            "Epoch  80: Train Loss = 0.544881, Test Loss = 0.542504\n",
            "Epoch  80: Train Loss = 0.544881, Test Loss = 0.542504\n",
            "Epoch 100: Train Loss = 0.470174, Test Loss = 0.468405\n",
            "Epoch 100: Train Loss = 0.470174, Test Loss = 0.468405\n",
            "Epoch 120: Train Loss = 0.409028, Test Loss = 0.407502\n",
            "Epoch 120: Train Loss = 0.409028, Test Loss = 0.407502\n",
            "Epoch 140: Train Loss = 0.359533, Test Loss = 0.358251\n",
            "Epoch 140: Train Loss = 0.359533, Test Loss = 0.358251\n",
            "Epoch 160: Train Loss = 0.319865, Test Loss = 0.318793\n",
            "Epoch 160: Train Loss = 0.319865, Test Loss = 0.318793\n",
            "Epoch 180: Train Loss = 0.288688, Test Loss = 0.287806\n",
            "Epoch 180: Train Loss = 0.288688, Test Loss = 0.287806\n",
            "Epoch 200: Train Loss = 0.264671, Test Loss = 0.263938\n",
            "Epoch 200: Train Loss = 0.264671, Test Loss = 0.263938\n",
            "Epoch 220: Train Loss = 0.246282, Test Loss = 0.245659\n",
            "Epoch 220: Train Loss = 0.246282, Test Loss = 0.245659\n",
            "Epoch 240: Train Loss = 0.232446, Test Loss = 0.231915\n",
            "Epoch 240: Train Loss = 0.232446, Test Loss = 0.231915\n",
            "Epoch 260: Train Loss = 0.222103, Test Loss = 0.221629\n",
            "Epoch 260: Train Loss = 0.222103, Test Loss = 0.221629\n",
            "Epoch 280: Train Loss = 0.214247, Test Loss = 0.213809\n",
            "Epoch 280: Train Loss = 0.214247, Test Loss = 0.213809\n",
            "Epoch 300: Train Loss = 0.208139, Test Loss = 0.207720\n",
            "Epoch 300: Train Loss = 0.208139, Test Loss = 0.207720\n",
            "Epoch 320: Train Loss = 0.203194, Test Loss = 0.202782\n",
            "Epoch 320: Train Loss = 0.203194, Test Loss = 0.202782\n",
            "Epoch 340: Train Loss = 0.199045, Test Loss = 0.198636\n",
            "Epoch 340: Train Loss = 0.199045, Test Loss = 0.198636\n",
            "Epoch 360: Train Loss = 0.195426, Test Loss = 0.195012\n",
            "Epoch 360: Train Loss = 0.195426, Test Loss = 0.195012\n",
            "Epoch 380: Train Loss = 0.192102, Test Loss = 0.191678\n",
            "Epoch 380: Train Loss = 0.192102, Test Loss = 0.191678\n",
            "Epoch 400: Train Loss = 0.188935, Test Loss = 0.188500\n",
            "Epoch 400: Train Loss = 0.188935, Test Loss = 0.188500\n",
            "Epoch 420: Train Loss = 0.185921, Test Loss = 0.185481\n",
            "Epoch 420: Train Loss = 0.185921, Test Loss = 0.185481\n",
            "Epoch 440: Train Loss = 0.183135, Test Loss = 0.182696\n",
            "Epoch 440: Train Loss = 0.183135, Test Loss = 0.182696\n",
            "Epoch 460: Train Loss = 0.180498, Test Loss = 0.180060\n",
            "Epoch 460: Train Loss = 0.180498, Test Loss = 0.180060\n",
            "Epoch 480: Train Loss = 0.177874, Test Loss = 0.177436\n",
            "Epoch 480: Train Loss = 0.177874, Test Loss = 0.177436\n",
            "Epoch 500: Train Loss = 0.175295, Test Loss = 0.174865\n",
            "Epoch 500: Train Loss = 0.175295, Test Loss = 0.174865\n"
          ]
        }
      ],
      "source": [
        "print(\"Training Neural Network with your specific configuration...\")\n",
        "weights, train_losses, test_losses = train_neural_network(\n",
        "    X_train_scaled, Y_train_scaled, X_test_scaled, Y_test_scaled,\n",
        "    epochs=500, patience=10\n",
        ")"
      ]
    },
    {
      "cell_type": "markdown",
      "metadata": {
        "id": "_TRnuROpwMFg"
      },
      "source": [
        "## Results Visualization"
      ]
    },
    {
      "cell_type": "code",
      "execution_count": 12,
      "metadata": {
        "id": "DAJc933xwNtM"
      },
      "outputs": [
        {
          "data": {
            "image/png": "[encoded data removed]",
            "text/plain": [
              "<Figure size 1500x500 with 2 Axes>"
            ]
          },
          "metadata": {},
          "output_type": "display_data"
        }
      ],
      "source": [
        "# Plot training progress\n",
        "plt.figure(figsize=(15, 5))\n",
        "\n",
        "# Loss curves\n",
        "plt.subplot(1, 3, 1)\n",
        "plt.plot(train_losses, label='Training Loss', color='blue', alpha=0.7)\n",
        "plt.plot(test_losses, label='Test Loss', color='red', alpha=0.7)\n",
        "plt.xlabel('Epoch')\n",
        "plt.ylabel('MSE Loss')\n",
        "plt.title('Training & Test Loss Over Time')\n",
        "plt.legend()\n",
        "plt.grid(True, alpha=0.3)\n",
        "\n",
        "# Get final predictions for visualization\n",
        "W1, b1, W2, b2, W3, b3 = weights\n",
        "_, _, _, _, Y_pred_scaled = forward_pass(X_test_scaled, W1, b1, W2, b2, W3, b3)\n",
        "\n",
        "# Inverse transform to original scale\n",
        "Y_test_orig = scaler_Y.inverse_transform(Y_test_scaled)\n",
        "Y_pred_orig = scaler_Y.inverse_transform(Y_pred_scaled)\n",
        "X_test_orig = scaler_X.inverse_transform(X_test_scaled)\n",
        "\n",
        "# Predictions vs Actual\n",
        "plt.subplot(1, 3, 2)\n",
        "plt.scatter(X_test_orig, Y_test_orig, s=1, alpha=0.3, label='Actual', color='blue')\n",
        "plt.scatter(X_test_orig, Y_pred_orig, s=1, alpha=0.3, label='Predicted', color='red')\n",
        "plt.xlabel('x')\n",
        "plt.ylabel('y')\n",
        "plt.title('Neural Network Predictions vs Actual')\n",
        "plt.legend()\n",
        "plt.grid(True, alpha=0.3)\n",
        "\n",
        "# Residual plot\n",
        "# plt.subplot(1, 3, 3)\n",
        "# residuals = Y_test_orig.flatten() - Y_pred_orig.flatten()\n",
        "# plt.scatter(X_test_orig, residuals, s=1, alpha=0.3, color='green')\n",
        "# plt.axhline(y=0, color='black', linestyle='--', alpha=0.5)\n",
        "# plt.xlabel('x')\n",
        "# plt.ylabel('Residuals (Actual - Predicted)')\n",
        "# plt.title('Residual Analysis')\n",
        "# plt.grid(True, alpha=0.3)\n",
        "\n",
        "plt.tight_layout()\n",
        "plt.show()"
      ]
    },
    {
      "cell_type": "markdown",
      "metadata": {
        "id": "VRQPcgQuwSzx"
      },
      "source": [
        "## Prediction Testing"
      ]
    },
    {
      "cell_type": "code",
      "execution_count": 13,
      "metadata": {
        "id": "S8lE9UOwwUv3"
      },
      "outputs": [
        {
          "name": "stdout",
          "output_type": "stream",
          "text": [
            "\n",
            "============================================================\n",
            "PREDICTION RESULTS FOR x = 90.2\n",
            "============================================================\n",
            "Neural Network Prediction: 1,207,359.47\n",
            "Ground Truth (formula):    1,732,312.09\n",
            "Absolute Error:            524,952.62\n",
            "Relative Error:            30.304%\n"
          ]
        }
      ],
      "source": [
        "\n",
        "x_test_value = 90.2\n",
        "x_new = np.array([[x_test_value]])\n",
        "x_new_scaled = scaler_X.transform(x_new)\n",
        "\n",
        "_, _, _, _, y_pred_scaled = forward_pass(x_new_scaled, W1, b1, W2, b2, W3, b3)\n",
        "y_pred = scaler_Y.inverse_transform(y_pred_scaled)\n",
        "\n",
        "if poly_type == 0:\n",
        "    _, b, c, d = coefficients\n",
        "    y_true = b * x_test_value**2 + c * x_test_value + d\n",
        "\n",
        "elif poly_type == 1:\n",
        "    a, b, c, d = coefficients\n",
        "    y_true = a * x_test_value**3 + b * x_test_value**2 + c * x_test_value + d\n",
        "\n",
        "elif poly_type == 2:\n",
        "    a, b, c, d, e = coefficients\n",
        "    y_true = a * x_test_value**4 + b * x_test_value**3 + c * x_test_value**2 + d * x_test_value + e\n",
        "\n",
        "elif poly_type == 3:\n",
        "    a, b, c, d, freq, amp = coefficients\n",
        "    y_true = a * x_test_value**3 + b * x_test_value**2 + c * x_test_value + d + amp * np.sin(freq * x_test_value)\n",
        "\n",
        "else:\n",
        "    a, b, c, d, inv_coeff = coefficients\n",
        "    y_true = a * x_test_value**3 + b * x_test_value**2 + c * x_test_value + d + inv_coeff / (x_test_value + np.sign(x_test_value) * 0.1)\n",
        "\n",
        "print(\"\\n\" + \"=\"*60)\n",
        "print(\"PREDICTION RESULTS FOR x = 90.2\")\n",
        "print(\"=\"*60)\n",
        "print(f\"Neural Network Prediction: {y_pred[0][0]:,.2f}\")\n",
        "print(f\"Ground Truth (formula):    {y_true:,.2f}\")\n",
        "print(f\"Absolute Error:            {abs(y_pred[0][0] - y_true):,.2f}\")\n",
        "print(f\"Relative Error:            {abs(y_pred[0][0] - y_true)/abs(y_true)*100:.3f}%\")\n",
        "\n"
      ]
    },
    {
      "cell_type": "markdown",
      "metadata": {
        "id": "PFW_llRzwX0U"
      },
      "source": [
        "## Final Performance Metrics"
      ]
    },
    {
      "cell_type": "code",
      "execution_count": 14,
      "metadata": {
        "id": "Y0e2jCixwaCv"
      },
      "outputs": [
        {
          "name": "stdout",
          "output_type": "stream",
          "text": [
            "\n",
            "============================================================\n",
            "FINAL PERFORMANCE SUMMARY\n",
            "============================================================\n",
            "Final Training Loss: 0.175295\n",
            "Final Test Loss:     0.174865\n",
            "R² Score:           0.8258\n",
            "Total Epochs Run:   500\n"
          ]
        }
      ],
      "source": [
        "# Calculate final performance metrics\n",
        "final_train_loss = train_losses[-1] if train_losses else float('inf')\n",
        "final_test_loss = test_losses[-1] if test_losses else float('inf')\n",
        "\n",
        "# Calculate R² score\n",
        "y_test_mean = np.mean(Y_test_orig)\n",
        "ss_res = np.sum((Y_test_orig - Y_pred_orig) ** 2)\n",
        "ss_tot = np.sum((Y_test_orig - y_test_mean) ** 2)\n",
        "r2_score = 1 - (ss_res / ss_tot)\n",
        "\n",
        "print(\"\\n\" + \"=\"*60)\n",
        "print(\"FINAL PERFORMANCE SUMMARY\")\n",
        "print(\"=\"*60)\n",
        "print(f\"Final Training Loss: {final_train_loss:.6f}\")\n",
        "print(f\"Final Test Loss:     {final_test_loss:.6f}\")\n",
        "print(f\"R² Score:           {r2_score:.4f}\")\n",
        "print(f\"Total Epochs Run:   {len(train_losses)}\")"
      ]
    }
  ],
  "metadata": {
    "colab": {
      "provenance": []
    },
    "kernelspec": {
      "display_name": "Python 3",
      "name": "python3"
    },
    "language_info": {
      "codemirror_mode": {
        "name": "ipython",
        "version": 3
      },
      "file_extension": ".py",
      "mimetype": "text/x-python",
      "name": "python",
      "nbconvert_exporter": "python",
      "pygments_lexer": "ipython3",
      "version": "3.10.0"
    }
  },
  "nbformat": 4,
  "nbformat_minor": 0
}
